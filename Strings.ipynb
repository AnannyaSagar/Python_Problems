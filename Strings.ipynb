{
  "nbformat": 4,
  "nbformat_minor": 0,
  "metadata": {
    "colab": {
      "provenance": [],
      "authorship_tag": "ABX9TyMAiQO7u1+4RwkeYm+n1LwV",
      "include_colab_link": true
    },
    "kernelspec": {
      "name": "python3",
      "display_name": "Python 3"
    },
    "language_info": {
      "name": "python"
    }
  },
  "cells": [
    {
      "cell_type": "markdown",
      "metadata": {
        "id": "view-in-github",
        "colab_type": "text"
      },
      "source": [
        "<a href=\"https://colab.research.google.com/github/AnannyaSagar/Python_Problems/blob/main/Strings.ipynb\" target=\"_parent\"><img src=\"https://colab.research.google.com/assets/colab-badge.svg\" alt=\"Open In Colab\"/></a>"
      ]
    },
    {
      "cell_type": "markdown",
      "source": [
        "## **Check whether a String is symmetric**"
      ],
      "metadata": {
        "id": "8LllY41EHC4D"
      }
    },
    {
      "cell_type": "code",
      "source": [
        "def check(string):\n",
        "  '''\n",
        "  This function returns whether a string is symmetric or not\n",
        "  \n",
        "  Args:\n",
        "       string:: input as string\n",
        "  '''\n",
        "  half_length = int(len(string)/2)\n",
        "  first_part = string[:half_length]\n",
        "  second_part = string[half_length : ]\n",
        "  if first_part == second_part:\n",
        "    return 'Symmetric'\n",
        "  else:\n",
        "    return \"Asymmetric\"\n"
      ],
      "metadata": {
        "id": "nmoBypkYHC4E"
      },
      "execution_count": 1,
      "outputs": []
    },
    {
      "cell_type": "code",
      "source": [
        "check('nomnom')"
      ],
      "metadata": {
        "colab": {
          "base_uri": "https://localhost:8080/",
          "height": 36
        },
        "outputId": "070bdf5d-daed-4e0e-a466-ee87a2728043",
        "id": "LGxPTn2fHC4E"
      },
      "execution_count": 4,
      "outputs": [
        {
          "output_type": "execute_result",
          "data": {
            "text/plain": [
              "'Symmetric'"
            ],
            "application/vnd.google.colaboratory.intrinsic+json": {
              "type": "string"
            }
          },
          "metadata": {},
          "execution_count": 4
        }
      ]
    },
    {
      "cell_type": "code",
      "source": [
        "def reversed_sent(string):\n",
        "  '''\n",
        "  This function returns whether a reversed string\n",
        "  \n",
        "  Args:\n",
        "       string:: input as string\n",
        "  '''\n",
        "  reversed = \" \".join(string.split(\" \")[::-1])\n",
        "  return reversed"
      ],
      "metadata": {
        "id": "XunNytZnHC4F"
      },
      "execution_count": 7,
      "outputs": []
    },
    {
      "cell_type": "code",
      "source": [
        "reversed_sent(\"life is beautiful\")"
      ],
      "metadata": {
        "colab": {
          "base_uri": "https://localhost:8080/",
          "height": 36
        },
        "outputId": "0114bb4e-2af1-4a4b-a856-cd96b217ae0d",
        "id": "IVgieGzaHC4F"
      },
      "execution_count": 8,
      "outputs": [
        {
          "output_type": "execute_result",
          "data": {
            "text/plain": [
              "'beautiful is life'"
            ],
            "application/vnd.google.colaboratory.intrinsic+json": {
              "type": "string"
            }
          },
          "metadata": {},
          "execution_count": 8
        }
      ]
    },
    {
      "cell_type": "markdown",
      "source": [
        "#Print only even length words"
      ],
      "metadata": {
        "id": "6Fwiz-mnHC4F"
      }
    },
    {
      "cell_type": "code",
      "source": [
        "def only_even(sentence):\n",
        "  \n",
        "  '''\n",
        "  This function returns the words with even length\n",
        "  \n",
        "  Args:\n",
        "       string:: input as string\n",
        "  '''\n",
        "  lis = []\n",
        "  words = sentence.split(\" \")\n",
        "  for i in words:\n",
        "    if len(i) % 2 == 0:\n",
        "      lis.append(i)\n",
        "  return lis"
      ],
      "metadata": {
        "id": "s8n6h4wkHC4F"
      },
      "execution_count": 27,
      "outputs": []
    },
    {
      "cell_type": "code",
      "source": [
        "only_even(\"Life is a sine curve\")"
      ],
      "metadata": {
        "colab": {
          "base_uri": "https://localhost:8080/"
        },
        "id": "mVoAzh69Io0M",
        "outputId": "7c382c27-710e-4b16-8bfe-8da633c2820a"
      },
      "execution_count": 28,
      "outputs": [
        {
          "output_type": "execute_result",
          "data": {
            "text/plain": [
              "['Life', 'is', 'sine']"
            ]
          },
          "metadata": {},
          "execution_count": 28
        }
      ]
    },
    {
      "cell_type": "code",
      "source": [
        "def vowels(sentence):\n",
        "  '''\n",
        "  This function returns the vowels of a string.\n",
        "\n",
        "  Args:\n",
        "       sentence:: input as string datatype\n",
        "  '''\n",
        "  vwl= []\n",
        "  for i in sentence:\n",
        "    if i in [\"a\",\"e\",\"i\",\"o\",\"u\"]:\n",
        "      vwl.append(i)\n",
        "\n",
        "  return vwl\n",
        "      "
      ],
      "metadata": {
        "id": "6yXArpSR5Qmy"
      },
      "execution_count": 29,
      "outputs": []
    },
    {
      "cell_type": "code",
      "source": [
        "vowels( \"You are more than you think you are\")"
      ],
      "metadata": {
        "colab": {
          "base_uri": "https://localhost:8080/"
        },
        "id": "gJeyuOT56-ay",
        "outputId": "ae5f5206-c51a-4598-f27d-c24e4e19721b"
      },
      "execution_count": 30,
      "outputs": [
        {
          "output_type": "execute_result",
          "data": {
            "text/plain": [
              "['o', 'u', 'a', 'e', 'o', 'e', 'a', 'o', 'u', 'i', 'o', 'u', 'a', 'e']"
            ]
          },
          "metadata": {},
          "execution_count": 30
        }
      ]
    }
  ]
}