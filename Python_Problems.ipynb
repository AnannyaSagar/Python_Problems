{
  "nbformat": 4,
  "nbformat_minor": 0,
  "metadata": {
    "colab": {
      "provenance": [],
      "authorship_tag": "ABX9TyMiXF3GOKMLPbUcbqFZH1W9",
      "include_colab_link": true
    },
    "kernelspec": {
      "name": "python3",
      "display_name": "Python 3"
    },
    "language_info": {
      "name": "python"
    }
  },
  "cells": [
    {
      "cell_type": "markdown",
      "metadata": {
        "id": "view-in-github",
        "colab_type": "text"
      },
      "source": [
        "<a href=\"https://colab.research.google.com/github/AnannyaSagar/Python_Problems/blob/main/Python_Problems.ipynb\" target=\"_parent\"><img src=\"https://colab.research.google.com/assets/colab-badge.svg\" alt=\"Open In Colab\"/></a>"
      ]
    },
    {
      "cell_type": "markdown",
      "source": [
        "# Reverse an integer"
      ],
      "metadata": {
        "id": "ShHl1Iu3EKug"
      }
    },
    {
      "cell_type": "code",
      "source": [
        "def rev_int(num):\n",
        "  rev = 0\n",
        "  while(num > 0):\n",
        "    rem = num % 10\n",
        "    rev = rev*10 + rem\n",
        "    num = num // 10\n",
        "  return rev "
      ],
      "metadata": {
        "id": "TJe55BmPASGf"
      },
      "execution_count": 5,
      "outputs": []
    },
    {
      "cell_type": "code",
      "source": [
        "rev_int(4321)"
      ],
      "metadata": {
        "colab": {
          "base_uri": "https://localhost:8080/"
        },
        "id": "w01lwJFluw78",
        "outputId": "e12ace03-7823-438c-c802-72cce8f0f131"
      },
      "execution_count": 6,
      "outputs": [
        {
          "output_type": "execute_result",
          "data": {
            "text/plain": [
              "1234"
            ]
          },
          "metadata": {},
          "execution_count": 6
        }
      ]
    },
    {
      "cell_type": "markdown",
      "source": [
        "Print the digits of a number"
      ],
      "metadata": {
        "id": "UoqGtcQpEzSl"
      }
    },
    {
      "cell_type": "code",
      "source": [
        "def digits(n):\n",
        "  while n > 0:\n",
        "   digit = n%10\n",
        "   n = n//10\n",
        "   print(digit)"
      ],
      "metadata": {
        "id": "w3MN49Qs82mo"
      },
      "execution_count": 7,
      "outputs": []
    },
    {
      "cell_type": "code",
      "source": [
        "digits(1234567)"
      ],
      "metadata": {
        "colab": {
          "base_uri": "https://localhost:8080/"
        },
        "id": "4ZkIK98RFZNk",
        "outputId": "19f9fe32-39a0-445c-c16b-2a928f5d8850"
      },
      "execution_count": 8,
      "outputs": [
        {
          "output_type": "stream",
          "name": "stdout",
          "text": [
            "7\n",
            "6\n",
            "5\n",
            "4\n",
            "3\n",
            "2\n",
            "1\n"
          ]
        }
      ]
    },
    {
      "cell_type": "markdown",
      "source": [
        "Interchange the last elemnet and the first element of a list"
      ],
      "metadata": {
        "id": "F3LhyTx1Hi1e"
      }
    },
    {
      "cell_type": "code",
      "source": [
        "def interchange(list):\n",
        " list[0], list[-1] = list[-1], list[0]\n",
        " return list"
      ],
      "metadata": {
        "id": "iWoxEpOCFxyC"
      },
      "execution_count": 9,
      "outputs": []
    },
    {
      "cell_type": "code",
      "source": [
        "interchange([0,9,3,7,[0,1,2]])"
      ],
      "metadata": {
        "colab": {
          "base_uri": "https://localhost:8080/"
        },
        "id": "dxZ_DWU1Ij40",
        "outputId": "ecb3dbd9-db9e-421c-f96e-68bd71c2f047"
      },
      "execution_count": 10,
      "outputs": [
        {
          "output_type": "execute_result",
          "data": {
            "text/plain": [
              "[[0, 1, 2], 9, 3, 7, 0]"
            ]
          },
          "metadata": {},
          "execution_count": 10
        }
      ]
    }
  ]
}