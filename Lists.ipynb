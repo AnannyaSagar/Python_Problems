{
  "nbformat": 4,
  "nbformat_minor": 0,
  "metadata": {
    "colab": {
      "provenance": [],
      "authorship_tag": "ABX9TyNhXuuz1jJeA0Ny+mhltpXK",
      "include_colab_link": true
    },
    "kernelspec": {
      "name": "python3",
      "display_name": "Python 3"
    },
    "language_info": {
      "name": "python"
    }
  },
  "cells": [
    {
      "cell_type": "markdown",
      "metadata": {
        "id": "view-in-github",
        "colab_type": "text"
      },
      "source": [
        "<a href=\"https://colab.research.google.com/github/AnannyaSagar/Python_Problems/blob/main/Lists.ipynb\" target=\"_parent\"><img src=\"https://colab.research.google.com/assets/colab-badge.svg\" alt=\"Open In Colab\"/></a>"
      ]
    },
    {
      "cell_type": "code",
      "source": [
        "def flat_list(List):\n",
        "  \"\"\"\n",
        "  This returns a flattened list for a nested list\n",
        "  \"\"\" \n",
        "  flatist = [num for ele in List for num in ele]\n",
        "  return flatist      "
      ],
      "metadata": {
        "id": "a4XM4ZEEGyMC"
      },
      "execution_count": null,
      "outputs": []
    },
    {
      "cell_type": "code",
      "source": [
        "lis = [[1,2],[3,4],[5]]\n",
        "flat_list(lis)"
      ],
      "metadata": {
        "colab": {
          "base_uri": "https://localhost:8080/"
        },
        "id": "KWMO359G-LH_",
        "outputId": "a96e6f3c-cdce-4b79-dd6b-e5a0847ddb66"
      },
      "execution_count": null,
      "outputs": [
        {
          "output_type": "execute_result",
          "data": {
            "text/plain": [
              "[1, 2, 3, 4, 5]"
            ]
          },
          "metadata": {},
          "execution_count": 4
        }
      ]
    },
    {
      "cell_type": "markdown",
      "source": [
        "Common data in two lists"
      ],
      "metadata": {
        "id": "SXZjX7NEJxSQ"
      }
    },
    {
      "cell_type": "code",
      "source": [
        "def common_list(l1,l2):\n",
        "  \"\"\"\n",
        "  returns whether two lists are same or not\n",
        "  \"\"\"\n",
        "  for i in l1:\n",
        "    for j in l2:\n",
        "      if i == j:\n",
        "        return True\n",
        "  return False"
      ],
      "metadata": {
        "id": "HIoWmHgKHk20"
      },
      "execution_count": null,
      "outputs": []
    },
    {
      "cell_type": "code",
      "source": [
        "a = [1,2,3,4]\n",
        "b= [5,6,7,8]"
      ],
      "metadata": {
        "id": "2HrREXUvKYrz"
      },
      "execution_count": null,
      "outputs": []
    },
    {
      "cell_type": "code",
      "source": [
        "common_list(a,b)"
      ],
      "metadata": {
        "colab": {
          "base_uri": "https://localhost:8080/"
        },
        "id": "0PndMZh_Ki-5",
        "outputId": "cd889bd0-ea7f-45d9-8836-739986ac2820"
      },
      "execution_count": null,
      "outputs": [
        {
          "output_type": "execute_result",
          "data": {
            "text/plain": [
              "False"
            ]
          },
          "metadata": {},
          "execution_count": 7
        }
      ]
    },
    {
      "cell_type": "code",
      "source": [
        "def odd_even(l):\n",
        "  \"\"\"\n",
        "  This function returns the count of even numbers and odd numbers respectively, in a list\n",
        "  \"\"\"\n",
        "  even = 0\n",
        "  odd = 0\n",
        "  \n",
        "  for i in l:\n",
        "    if i%2 == 0:\n",
        "      even +=1\n",
        "    else:\n",
        "      odd +=1\n",
        "      return even, odd"
      ],
      "metadata": {
        "id": "QpIwkWvA-0w_"
      },
      "execution_count": null,
      "outputs": []
    },
    {
      "cell_type": "code",
      "source": [
        "odd_even([1,90,89,9997,8889,6665,774])"
      ],
      "metadata": {
        "colab": {
          "base_uri": "https://localhost:8080/"
        },
        "id": "ChM_gvWM_wcB",
        "outputId": "d8ba2a5c-d9d6-40bb-9c67-4a883f55425f"
      },
      "execution_count": null,
      "outputs": [
        {
          "output_type": "execute_result",
          "data": {
            "text/plain": [
              "(0, 1)"
            ]
          },
          "metadata": {},
          "execution_count": 9
        }
      ]
    },
    {
      "cell_type": "code",
      "source": [],
      "metadata": {
        "id": "M899ZYe0_5WJ"
      },
      "execution_count": null,
      "outputs": []
    }
  ]
}