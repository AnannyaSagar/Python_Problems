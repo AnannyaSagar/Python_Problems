{
  "nbformat": 4,
  "nbformat_minor": 0,
  "metadata": {
    "colab": {
      "provenance": [],
      "authorship_tag": "ABX9TyOwCvvYZoangvHLIYsE93RI",
      "include_colab_link": true
    },
    "kernelspec": {
      "name": "python3",
      "display_name": "Python 3"
    },
    "language_info": {
      "name": "python"
    }
  },
  "cells": [
    {
      "cell_type": "markdown",
      "metadata": {
        "id": "view-in-github",
        "colab_type": "text"
      },
      "source": [
        "<a href=\"https://colab.research.google.com/github/AnannyaSagar/Python_Problems/blob/main/Integers.ipynb\" target=\"_parent\"><img src=\"https://colab.research.google.com/assets/colab-badge.svg\" alt=\"Open In Colab\"/></a>"
      ]
    },
    {
      "cell_type": "markdown",
      "source": [
        "# Reverse an integer"
      ],
      "metadata": {
        "id": "ShHl1Iu3EKug"
      }
    },
    {
      "cell_type": "code",
      "source": [
        "def rev_int(num):\n",
        "  '''\n",
        "  This function reverses the digits of an integer.\n",
        "\n",
        "  Args: \n",
        "      num :: stands for the number we want to reverse\n",
        "\n",
        "  Returns:\n",
        "      rev :: reversed form of the number(num)\n",
        "\n",
        "  '''\n",
        "  rev = 0\n",
        "  while(num > 0):\n",
        "    rem = num % 10\n",
        "    rev = rev*10 + rem\n",
        "    num = num // 10\n",
        "  return rev "
      ],
      "metadata": {
        "id": "TJe55BmPASGf"
      },
      "execution_count": 24,
      "outputs": []
    },
    {
      "cell_type": "code",
      "source": [
        "rev_int(4321)"
      ],
      "metadata": {
        "colab": {
          "base_uri": "https://localhost:8080/"
        },
        "id": "w01lwJFluw78",
        "outputId": "e12ace03-7823-438c-c802-72cce8f0f131"
      },
      "execution_count": null,
      "outputs": [
        {
          "output_type": "execute_result",
          "data": {
            "text/plain": [
              "1234"
            ]
          },
          "metadata": {},
          "execution_count": 6
        }
      ]
    },
    {
      "cell_type": "markdown",
      "source": [
        "## **Print the digits of a number**"
      ],
      "metadata": {
        "id": "UoqGtcQpEzSl"
      }
    },
    {
      "cell_type": "code",
      "source": [
        "def digits(n):\n",
        "  '''\n",
        "  This function returns the digits of a number seperately\n",
        "  Args: \n",
        "      n :: stands for the number for which we want to print the digits\n",
        "  Returns:\n",
        "      digit :: the digits of the number(n)\n",
        "  '''\n",
        "  \n",
        "  while n > 0:\n",
        "   digit = n%10\n",
        "   n = n//10\n",
        "   print(digit)"
      ],
      "metadata": {
        "id": "w3MN49Qs82mo"
      },
      "execution_count": null,
      "outputs": []
    },
    {
      "cell_type": "code",
      "source": [
        "digits(1234567)"
      ],
      "metadata": {
        "colab": {
          "base_uri": "https://localhost:8080/"
        },
        "id": "4ZkIK98RFZNk",
        "outputId": "19f9fe32-39a0-445c-c16b-2a928f5d8850"
      },
      "execution_count": null,
      "outputs": [
        {
          "output_type": "stream",
          "name": "stdout",
          "text": [
            "7\n",
            "6\n",
            "5\n",
            "4\n",
            "3\n",
            "2\n",
            "1\n"
          ]
        }
      ]
    },
    {
      "cell_type": "markdown",
      "source": [
        "# Interchange the last element and the first element of an integer"
      ],
      "metadata": {
        "id": "F3LhyTx1Hi1e"
      }
    },
    {
      "cell_type": "code",
      "source": [
        "def swap(intgr):\n",
        "  '''\n",
        "  This function swaps the first and last element of an integer\n",
        "  Args: \n",
        "      intgr :: input integer\n",
        "  Returns:\n",
        "      intgr :: returns the swapped integer\n",
        "  '''\n",
        "  digits = [digit for digit in str(intgr)]\n",
        "  temp = digits[0]\n",
        "  digits[0] = digits[-1]\n",
        "  digits[-1] = temp\n",
        "  intgr = int(\"\".join(digits))\n",
        "  return intgr"
      ],
      "metadata": {
        "id": "OnjyQdhT1_Pa"
      },
      "execution_count": 25,
      "outputs": []
    },
    {
      "cell_type": "code",
      "source": [
        "swap(52341)"
      ],
      "metadata": {
        "colab": {
          "base_uri": "https://localhost:8080/"
        },
        "id": "dxZ_DWU1Ij40",
        "outputId": "4e2d1078-069e-4b14-de6f-d8cc4a700b28"
      },
      "execution_count": 23,
      "outputs": [
        {
          "output_type": "execute_result",
          "data": {
            "text/plain": [
              "12345"
            ]
          },
          "metadata": {},
          "execution_count": 23
        }
      ]
    },
    {
      "cell_type": "code",
      "source": [],
      "metadata": {
        "id": "f3pz7dmNyYYS"
      },
      "execution_count": null,
      "outputs": []
    }
  ]
}